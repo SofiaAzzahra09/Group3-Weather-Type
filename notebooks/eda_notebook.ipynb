{
 "cells": [
  {
   "cell_type": "code",
   "execution_count": null,
   "id": "9e66a4b3",
   "metadata": {},
   "outputs": [],
   "source": [
    "import sys\n",
    "import os\n",
    "\n",
    "\n",
    "sys.path.append(os.path.abspath(os.path.join(os.getcwd(), \"..\", \"src\")))"
   ]
  },
  {
   "cell_type": "code",
   "execution_count": 2,
   "id": "32f9936f",
   "metadata": {},
   "outputs": [],
   "source": [
    "# Memuat model yang disimpan\n",
    "import joblib\n",
    "model = joblib.load('random_forest_model.pkl')\n"
   ]
  },
  {
   "cell_type": "code",
   "execution_count": 7,
   "id": "4cddbe1b",
   "metadata": {},
   "outputs": [
    {
     "name": "stdout",
     "output_type": "stream",
     "text": [
      "Prediksi cuaca untuk data baru: [1]\n"
     ]
    }
   ],
   "source": [
    "import pandas as pd\n",
    "import numpy as np\n",
    "\n",
    "# Nama kolom yang digunakan saat pelatihan\n",
    "feature_names = ['Temperature', 'Humidity', 'Wind Speed', 'Precipitation (%)', 'Cloud Cover', \n",
    "                 'Atmospheric Pressure', 'UV Index', 'Season', 'Visibility (km)', 'Location']\n",
    "\n",
    "# Data baru untuk prediksi (pastikan fitur sesuai dengan yang digunakan model)\n",
    "# Pastikan nama kolom pada new_data sama dengan feature_names\n",
    "new_data = pd.DataFrame([[25.0, 70, 10.0, 60, 4, 1012, 4, 2, 5.0, 1]], columns=feature_names)\n",
    "\n",
    "# Melakukan prediksi\n",
    "predicted_weather = model.predict(new_data)\n",
    "\n",
    "# Menampilkan hasil prediksi\n",
    "print(f\"Prediksi cuaca untuk data baru: {predicted_weather}\")\n"
   ]
  }
 ],
 "metadata": {
  "kernelspec": {
   "display_name": "Python 3",
   "language": "python",
   "name": "python3"
  },
  "language_info": {
   "codemirror_mode": {
    "name": "ipython",
    "version": 3
   },
   "file_extension": ".py",
   "mimetype": "text/x-python",
   "name": "python",
   "nbconvert_exporter": "python",
   "pygments_lexer": "ipython3",
   "version": "3.12.6"
  }
 },
 "nbformat": 4,
 "nbformat_minor": 5
}
