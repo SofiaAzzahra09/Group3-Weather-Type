{
 "cells": [
  {
   "cell_type": "code",
   "execution_count": 5,
   "id": "27e37315",
   "metadata": {
    "vscode": {
     "languageId": "plaintext"
    }
   },
   "outputs": [],
   "source": [
    "import sys\n",
    "import os\n",
    "\n",
    "\n",
    "sys.path.append(os.path.abspath(os.path.join(os.getcwd(), \"..\", \"src\")))"
   ]
  },
  {
   "cell_type": "code",
   "execution_count": 6,
   "id": "81005711",
   "metadata": {
    "vscode": {
     "languageId": "plaintext"
    }
   },
   "outputs": [],
   "source": [
    "from weather.data_loader import load_data"
   ]
  },
  {
   "cell_type": "code",
   "execution_count": 14,
   "id": "1b5ba537",
   "metadata": {
    "vscode": {
     "languageId": "plaintext"
    }
   },
   "outputs": [],
   "source": [
    "file_path = os.path.join('..', 'data', 'raw', 'weather_classification_data.csv')\n",
    "df = load_data(file_path)"
   ]
  },
  {
   "cell_type": "code",
   "execution_count": 15,
   "id": "ee13630d",
   "metadata": {
    "vscode": {
     "languageId": "plaintext"
    }
   },
   "outputs": [
    {
     "name": "stdout",
     "output_type": "stream",
     "text": [
      "   Temperature  Humidity  Wind Speed  Precipitation (%)    Cloud Cover  \\\n",
      "0         14.0        73         9.5               82.0  partly cloudy   \n",
      "1         39.0        96         8.5               71.0  partly cloudy   \n",
      "2         30.0        64         7.0               16.0          clear   \n",
      "3         38.0        83         1.5               82.0          clear   \n",
      "4         27.0        74        17.0               66.0       overcast   \n",
      "\n",
      "   Atmospheric Pressure  UV Index  Season  Visibility (km)  Location  \\\n",
      "0               1010.82         2  Winter              3.5    inland   \n",
      "1               1011.43         7  Spring             10.0    inland   \n",
      "2               1018.72         5  Spring              5.5  mountain   \n",
      "3               1026.25         7  Spring              1.0   coastal   \n",
      "4                990.67         1  Winter              2.5  mountain   \n",
      "\n",
      "  Weather Type  \n",
      "0        Rainy  \n",
      "1       Cloudy  \n",
      "2        Sunny  \n",
      "3        Sunny  \n",
      "4        Rainy  \n"
     ]
    }
   ],
   "source": [
    "print(df.head())"
   ]
  },
  {
   "cell_type": "code",
   "execution_count": null,
   "id": "8fde987e-a1fd-4ce9-be1e-ce5b2d44b59e",
   "metadata": {},
   "outputs": [],
   "source": []
  }
 ],
 "metadata": {
  "kernelspec": {
   "display_name": "Python 3 (ipykernel)",
   "language": "python",
   "name": "python3"
  },
  "language_info": {
   "codemirror_mode": {
    "name": "ipython",
    "version": 3
   },
   "file_extension": ".py",
   "mimetype": "text/x-python",
   "name": "python",
   "nbconvert_exporter": "python",
   "pygments_lexer": "ipython3",
   "version": "3.11.2"
  }
 },
 "nbformat": 4,
 "nbformat_minor": 5
}
